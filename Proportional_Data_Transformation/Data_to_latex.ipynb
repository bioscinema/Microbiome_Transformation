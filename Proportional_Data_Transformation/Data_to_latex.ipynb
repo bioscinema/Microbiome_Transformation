{
 "cells": [
  {
   "cell_type": "code",
   "execution_count": 20,
   "metadata": {},
   "outputs": [
    {
     "data": {
      "text/plain": [
       "'\\n\\\\begin{table}[h]\\n\\\\centering\\n\\\\scriptsize\\n\\\\caption{Summary of Power and FDR for Various Transformations in Proportional Data}\\n\\\\label{tab:summary_transformations}\\n\\\\begin{tabular}{|c|l|c|c|c|c|c|c|c|c|}\\n\\\\hline\\n\\\\multirow{2}{*}{\\\\(\\\\eta\\\\)} & \\\\multirow{2}{*}{Transformation} & \\\\multicolumn{8}{c|}{Percent of 0} \\\\\\\\ \\\\cline{3-10}\\n                          &                                & \\\\multicolumn{2}{c|}{0\\\\%} & \\\\multicolumn{2}{c|}{10\\\\%} & \\\\multicolumn{2}{c|}{20\\\\%} & \\\\multicolumn{2}{c|}{30\\\\%} \\\\\\\\ \\\\cline{3-10} \\n                          &                                & Power & FDR & Power & FDR & Power & FDR & Power & FDR \\\\\\\\ \\\\hline\\n\\\\multirow{9}{*}{-0.7} & t & 0.3952 ± 0.1095 & 0.0208 ± 0.0298 & 0.1880 ± 0.0764 & 0.0164 ± 0.0242 & 0.0984 ± 0.0550 & 0.0140 ± 0.0216 & 0.0440 ± 0.0383 & 0.0136 ± 0.0236 \\\\\\\\\\n                          & logit_t & 0.8368 ± 0.0707 & 0.0276 ± 0.0320 & 0.1900 ± 0.0724 & 0.0248 ± 0.0340 & 0.1000 ± 0.0589 & 0.0284 ± 0.0338 & 0.0516 ± 0.0411 & 0.0276 ± 0.0325 \\\\\\\\\\n                          & log_t & 0.8368 ± 0.0707 & 0.0268 ± 0.0322 & 0.1900 ± 0.0724 & 0.0248 ± 0.0340 & 0.1000 ± 0.0589 & 0.0284 ± 0.0338 & 0.0516 ± 0.0411 & 0.0276 ± 0.0325 \\\\\\\\\\n                          & tangent_t & 0.0024 ± 0.0095 & 0.0032 ± 0.0109 & 0.0268 ± 0.0355 & 0.0224 ± 0.0313 & 0.0248 ± 0.0310 & 0.0260 ± 0.0323 & 0.0268 ± 0.0312 & 0.0264 ± 0.0307 \\\\\\\\\\n                          & arcsine_t & 0.5948 ± 0.1132 & 0.0264 ± 0.0318 & 0.2556 ± 0.0779 & 0.0216 ± 0.0263 & 0.1360 ± 0.0636 & 0.0212 ± 0.0303 & 0.0608 ± 0.0481 & 0.0200 ± 0.0264 \\\\\\\\\\n                          & wilcoxon & 0.7948 ± 0.0791 & 0.0264 ± 0.0313 & 0.2248 ± 0.0732 & 0.0252 ± 0.0349 & 0.0936 ± 0.0552 & 0.0248 ± 0.0321 & 0.0400 ± 0.0381 & 0.0276 ± 0.0325 \\\\\\\\\\n                          & dual_group_logit_t & 0.8372 ± 0.0706 & 0.0300 ± 0.0323 & 0.2772 ± 0.0824 & 0.0248 ± 0.0349 & 0.1444 ± 0.0658 & 0.0240 ± 0.0322 & 0.0656 ± 0.0481 & 0.0232 ± 0.0307 \\\\\\\\\\n                          & dual_group_boxcox_t & 0.7400 ± 0.0898 & 0.0296 ± 0.0325 & 0.2220 ± 0.0699 & 0.0244 ± 0.0336 & 0.0968 ± 0.0594 & 0.0284 ± 0.0338 & 0.0436 ± 0.0394 & 0.0272 ± 0.0321 \\\\\\\\\\n                          & boxcox_t & 0.8252 ± 0.0754 & 0.0276 ± 0.0320 & 0.2312 ± 0.0732 & 0.0244 ± 0.0336 & 0.1124 ± 0.0582 & 0.0272 ± 0.0336 & 0.0576 ± 0.0423 & 0.0272 ± 0.0326 \\\\\\\\\\n\\\\hline\\n\\\\multirow{9}{*}{-0.5} & t & 0.2728 ± 0.0880 & 0.0212 ± 0.0275 & 0.1016 ± 0.0573 & 0.0136 ± 0.0249 & 0.0496 ± 0.0455 & 0.0148 ± 0.0252 & 0.0308 ± 0.0336 & 0.0176 ± 0.0275 \\\\\\\\\\n                          & logit_t & 0.5620 ± 0.1035 & 0.0296 ± 0.0339 & 0.0896 ± 0.0599 & 0.0292 ± 0.0350 & 0.0484 ± 0.0419 & 0.0384 ± 0.0394 & 0.0352 ± 0.0361 & 0.0316 ± 0.0370 \\\\\\\\\\n                          & log_t & 0.5620 ± 0.1035 & 0.0292 ± 0.0336 & 0.0896 ± 0.0599 & 0.0292 ± 0.0350 & 0.0484 ± 0.0419 & 0.0384 ± 0.0394 & 0.0352 ± 0.0361 & 0.0316 ± 0.0370 \\\\\\\\\\n                          & tangent_t & 0.0044 ± 0.0126 & 0.0012 ± 0.0069 & 0.0268 ± 0.0341 & 0.0248 ± 0.0321 & 0.0232 ± 0.0268 & 0.0376 ± 0.0389 & 0.0256 ± 0.0309 & 0.0304 ± 0.0356 \\\\\\\\\\n                          & arcsine_t & 0.4020 ± 0.1064 & 0.0256 ± 0.0304 & 0.1368 ± 0.0668 & 0.0200 ± 0.0281 & 0.0668 ± 0.0545 & 0.0212 ± 0.0298 & 0.0408 ± 0.0386 & 0.0256 ± 0.0334 \\\\\\\\\\n                          & wilcoxon & 0.5244 ± 0.0988 & 0.0260 ± 0.0313 & 0.1204 ± 0.0654 & 0.0264 ± 0.0318 & 0.0504 ± 0.0439 & 0.0336 ± 0.0358 & 0.0352 ± 0.0387 & 0.0308 ± 0.0363 \\\\\\\\\\n                          & dual_group_logit_t & 0.5656 ± 0.1047 & 0.0312 ± 0.0339 & 0.1468 ± 0.0719 & 0.0260 ± 0.0328 & 0.0684 ± 0.0540 & 0.0304 ± 0.0378 & 0.0440 ± 0.0420 & 0.0312 ± 0.0367 \\\\\\\\\\n                          & dual_group_boxcox_t & 0.5512 ± 0.1010 & 0.0296 ± 0.0330 & 0.1088 ± 0.0641 & 0.0288 ± 0.0351 & 0.0476 ± 0.0417 & 0.0384 ± 0.0394 & 0.0296 ± 0.0335 & 0.0308 ± 0.0359 \\\\\\\\\\n                          & boxcox_t & 0.5620 ± 0.1022 & 0.0300 ± 0.0338 & 0.1144 ± 0.0638 & 0.0292 ± 0.0354 & 0.0524 ± 0.0443 & 0.0372 ± 0.0382 & 0.0376 ± 0.0393 & 0.0312 ± 0.0371 \\\\\\\\\\n\\\\hline\\n\\n\\\\end{tabular}\\n\\\\end{table}\\n'"
      ]
     },
     "execution_count": 20,
     "metadata": {},
     "output_type": "execute_result"
    }
   ],
   "source": [
    "import pandas as pd\n",
    "\n",
    "# Load the new combined results CSV file\n",
    "file_path = 'combined_results.csv'\n",
    "combined_results = pd.read_csv(file_path)\n",
    "\n",
    "# Helper function to format power and FDR with standard deviations\n",
    "def format_with_sd(power, power_sd, fdr, fdr_sd):\n",
    "    return f\"{power:.4f} ± {power_sd:.4f}\", f\"{fdr:.4f} ± {fdr_sd:.4f}\"\n",
    "\n",
    "# Start building the LaTeX table\n",
    "latex_table = r\"\"\"\n",
    "\\begin{table}[h]\n",
    "\\centering\n",
    "\\scriptsize\n",
    "\\caption{Summary of Power and FDR for Various Transformations in Proportional Data}\n",
    "\\label{tab:summary_transformations}\n",
    "\\begin{tabular}{|c|l|c|c|c|c|c|c|c|c|}\n",
    "\\hline\n",
    "\\multirow{2}{*}{\\(\\eta\\)} & \\multirow{2}{*}{Transformation} & \\multicolumn{8}{c|}{Percent of 0} \\\\ \\cline{3-10}\n",
    "                          &                                & \\multicolumn{2}{c|}{0\\%} & \\multicolumn{2}{c|}{10\\%} & \\multicolumn{2}{c|}{20\\%} & \\multicolumn{2}{c|}{30\\%} \\\\ \\cline{3-10} \n",
    "                          &                                & Power & FDR & Power & FDR & Power & FDR & Power & FDR \\\\ \\hline\n",
    "\"\"\"\n",
    "\n",
    "# Iterate through unique eta values\n",
    "for eta in combined_results['eta'].unique():\n",
    "    # Filter the dataframe for the current eta value\n",
    "    eta_df = combined_results[combined_results['eta'] == eta]\n",
    "    \n",
    "    # Add a new row for each transformation method\n",
    "    methods = eta_df['Method'].unique()\n",
    "    first_row = True\n",
    "    for method in methods:\n",
    "        # Filter for the current method\n",
    "        method_df = eta_df[eta_df['Method'] == method]\n",
    "        \n",
    "        # Extract values for different q\n",
    "        power_fdr_values = []\n",
    "        for q in [0.0, 0.3, 0.5, 0.7]:  # Ensuring the order 0%, 10%, 20%, 30%\n",
    "            row = method_df[method_df['q'] == q].iloc[0]\n",
    "            power, fdr = format_with_sd(row['Power'], row['Power_sd'], row['FDR'], row['FDR_sd'])\n",
    "            power_fdr_values.append(power)\n",
    "            power_fdr_values.append(fdr)\n",
    "        \n",
    "        # Add the row to the LaTeX table\n",
    "        if first_row:\n",
    "            latex_table += f\"\\\\multirow{{9}}{{*}}{{{eta}}} & {method} & \" + \" & \".join(power_fdr_values) + \" \\\\\\\\\\n\"\n",
    "            first_row = False\n",
    "        else:\n",
    "            latex_table += f\"                          & {method} & \" + \" & \".join(power_fdr_values) + \" \\\\\\\\\\n\"\n",
    "    \n",
    "    # Add \\hline after all methods for the current eta\n",
    "    latex_table += \"\\\\hline\\n\"\n",
    "\n",
    "# End the LaTeX table\n",
    "latex_table += r\"\"\"\n",
    "\\end{tabular}\n",
    "\\end{table}\n",
    "\"\"\"\n",
    "\n",
    "# Save the LaTeX table to a file\n",
    "with open(\"summary_transformations.tex\", \"w\") as file:\n",
    "    file.write(latex_table)\n",
    "\n",
    "latex_table\n"
   ]
  }
 ],
 "metadata": {
  "kernelspec": {
   "display_name": "Python 3",
   "language": "python",
   "name": "python3"
  },
  "language_info": {
   "codemirror_mode": {
    "name": "ipython",
    "version": 3
   },
   "file_extension": ".py",
   "mimetype": "text/x-python",
   "name": "python",
   "nbconvert_exporter": "python",
   "pygments_lexer": "ipython3",
   "version": "3.12.2"
  }
 },
 "nbformat": 4,
 "nbformat_minor": 2
}
